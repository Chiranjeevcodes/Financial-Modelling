{
 "cells": [
  {
   "cell_type": "code",
   "execution_count": 3,
   "id": "07d41029",
   "metadata": {},
   "outputs": [],
   "source": [
    "def newton(func, funcderiv, x):\n",
    "    \n",
    "    e = abs()\n",
    "    def f(x):\n",
    "        f = eval(func)\n",
    "        return f\n",
    "    \n",
    "    def df(x):\n",
    "        df = eval(funcderiv)\n",
    "        return df\n",
    "    \n",
    "    for interations in range(1, n):\n",
    "        i = x - (f(x)/df(x))\n",
    "        x = i\n",
    "        \n",
    "    print(f\"root was found at {x}\")  \n",
    "    print(f\")"
   ]
  },
  {
   "cell_type": "code",
   "execution_count": 2,
   "id": "813cfaa5",
   "metadata": {},
   "outputs": [
    {
     "name": "stdout",
     "output_type": "stream",
     "text": [
      "root was found at 0.5\n"
     ]
    }
   ],
   "source": [
    "newton(\"3*x**2-2*x-1\",\"2\",1, 2 )"
   ]
  },
  {
   "cell_type": "code",
   "execution_count": null,
   "id": "d409e593",
   "metadata": {},
   "outputs": [],
   "source": []
  }
 ],
 "metadata": {
  "kernelspec": {
   "display_name": "Python 3 (ipykernel)",
   "language": "python",
   "name": "python3"
  },
  "language_info": {
   "codemirror_mode": {
    "name": "ipython",
    "version": 3
   },
   "file_extension": ".py",
   "mimetype": "text/x-python",
   "name": "python",
   "nbconvert_exporter": "python",
   "pygments_lexer": "ipython3",
   "version": "3.9.13"
  }
 },
 "nbformat": 4,
 "nbformat_minor": 5
}
