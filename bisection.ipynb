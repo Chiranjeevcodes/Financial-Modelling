{
 "cells": [
  {
   "cell_type": "code",
   "execution_count": 27,
   "id": "946bedb0",
   "metadata": {},
   "outputs": [],
   "source": [
    "def bisection(func, a, b, e,i):\n",
    "    \n",
    "    e = abs(b-a)\n",
    "    i = 0\n",
    "    \n",
    "    def f(x):\n",
    "        f = eval(func)\n",
    "        return f\n",
    "    \n",
    "    while e >= 0.001:\n",
    "        c = (a+b) / 2\n",
    "        \n",
    "        if f(a)*f(b) >= 0:\n",
    "            print(\"no roots found\")\n",
    "            quit()\n",
    "            \n",
    "        elif f(a)*f(c) < 0:\n",
    "            b = c\n",
    "            e = abs(b-a)\n",
    "            i+=1\n",
    "            \n",
    "        elif f(b)*f(c) <0:\n",
    "            a = c\n",
    "            e = abs(b-a)\n",
    "            i+=1\n",
    "            \n",
    "        else:\n",
    "            quit()\n",
    "            \n",
    "            \n",
    "    print(f\"the error is {e}\")\n",
    "    print(f\"upper boundary is {b} and lower boundary is {a}\")\n",
    "    print (f\"number of interations are {i}\")\n",
    "        "
   ]
  },
  {
   "cell_type": "code",
   "execution_count": 28,
   "id": "c3f73eb9",
   "metadata": {},
   "outputs": [
    {
     "name": "stdout",
     "output_type": "stream",
     "text": [
      "the error is 0.0006835937500000444\n",
      "upper boundary is 0.5005859375 and lower boundary is 0.49990234375\n",
      "number of interations are 11\n"
     ]
    }
   ],
   "source": [
    "bisection(\"2*x-1\", 0.1,1.5,0.01,0)"
   ]
  },
  {
   "cell_type": "code",
   "execution_count": null,
   "id": "1a7a5cb3",
   "metadata": {},
   "outputs": [],
   "source": []
  }
 ],
 "metadata": {
  "kernelspec": {
   "display_name": "Python 3 (ipykernel)",
   "language": "python",
   "name": "python3"
  },
  "language_info": {
   "codemirror_mode": {
    "name": "ipython",
    "version": 3
   },
   "file_extension": ".py",
   "mimetype": "text/x-python",
   "name": "python",
   "nbconvert_exporter": "python",
   "pygments_lexer": "ipython3",
   "version": "3.9.13"
  }
 },
 "nbformat": 4,
 "nbformat_minor": 5
}
