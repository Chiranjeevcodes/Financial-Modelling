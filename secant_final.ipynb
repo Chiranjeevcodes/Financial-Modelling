{
 "cells": [
  {
   "cell_type": "code",
   "execution_count": 25,
   "id": "831b084a",
   "metadata": {},
   "outputs": [],
   "source": [
    "from sympy import sympify, lambdify, cos\n",
    "from sympy.abc import x\n",
    "from math import sin, cos, exp\n",
    "\n",
    "def secant_sympy(func_str, x0, x1):\n",
    "    func = sympify(func_str)\n",
    "    f = lambdify(x, func)\n",
    "\n",
    "    i = 0\n",
    "    e = abs(x1 - x0)\n",
    "    xi = x1\n",
    "\n",
    "    while e >= 0.001:\n",
    "        fx0 = f(x0)\n",
    "        fx1 = f(x1)\n",
    "        \n",
    "        if (fx0 - fx1) == 0:\n",
    "            print(f\"Division by zero error in iteration {i}\")\n",
    "            break\n",
    "        \n",
    "        xi = x0 - (fx0 * (x0 - x1)) / (fx0 - fx1)\n",
    "        \n",
    "        x0 = x1\n",
    "        x1 = xi\n",
    "        i += 1\n",
    "        e = abs(x1 - x0)\n",
    "\n",
    "        print(f\"[SymPy] Iteration {i}: x0 = {x0}, x1 = {x1}, xi = {xi}, fx0 = {fx0}, fx1 = {fx1}, error = {e}\")\n",
    "    \n",
    "    print(f\"[SymPy] The root was found to be at {xi}\")\n",
    "    print(f\"[SymPy] The error was found to be {e}\")\n",
    "    print(f\"[SymPy] Number of iterations {i}\")\n",
    "\n",
    "# Example usage with f(x) = cos(x) - x\n",
    "#secant_sympy(\"cos(x) - x\", 0.5, 1.0)\n"
   ]
  },
  {
   "cell_type": "code",
   "execution_count": 22,
   "id": "dcfbbb64",
   "metadata": {},
   "outputs": [
    {
     "name": "stdout",
     "output_type": "stream",
     "text": [
      "[SymPy] Iteration 1: x0 = 2, x1 = 1.0000004651956262, xi = 1.0000004651956262, fx0 = -999, fx1 = 2147482648, error = 0.9999995348043738\n",
      "[SymPy] Iteration 2: x0 = 1.0000004651956262, x1 = 1.0000009303910296, xi = 1.0000009303910296, fx0 = 2147482648, fx1 = -998.999985578835, error = 4.651954033096928e-07\n",
      "[SymPy] The root was found to be at 1.0000009303910296\n",
      "[SymPy] The error was found to be 4.651954033096928e-07\n",
      "[SymPy] Number of iterations 2\n"
     ]
    }
   ],
   "source": [
    "secant_sympy(\"x**31-1000\",1,2)"
   ]
  },
  {
   "cell_type": "code",
   "execution_count": 26,
   "id": "13a07662",
   "metadata": {},
   "outputs": [
    {
     "name": "stdout",
     "output_type": "stream",
     "text": [
      "[SymPy] Iteration 1: x0 = -4, x1 = -4.881623175723856, xi = -4.881623175723856, fx0 = 0.01176862142377705, fx1 = -0.08764797887565104, error = 0.8816231757238562\n",
      "[SymPy] Iteration 2: x0 = -4.881623175723856, x1 = -4.914364130510511, xi = -4.914364130510511, fx0 = -0.08764797887565104, fx1 = -0.0031384416970809334, error = 0.03274095478665462\n",
      "[SymPy] Iteration 3: x0 = -4.914364130510511, x1 = -4.914952658712826, xi = -4.914952658712826, fx0 = -0.0031384416970809334, fx1 = -5.541824488145691e-05, error = 0.0005885282023152527\n",
      "[SymPy] The root was found to be at -4.914952658712826\n",
      "[SymPy] The error was found to be 0.0005885282023152527\n",
      "[SymPy] Number of iterations 3\n"
     ]
    }
   ],
   "source": [
    "secant_sympy(\"sin(x)**5 * cos(x)**3 - exp(x)\",-5,-4)"
   ]
  },
  {
   "cell_type": "code",
   "execution_count": 27,
   "id": "69e92cfb",
   "metadata": {},
   "outputs": [
    {
     "name": "stdout",
     "output_type": "stream",
     "text": [
      "[SymPy] Iteration 1: x0 = -1, x1 = -1.4443994000178586, xi = -1.4443994000178586, fx0 = 0.24851399762838178, fx1 = -0.19877493193067514, error = 0.4443994000178586\n",
      "[SymPy] Iteration 2: x0 = -1.4443994000178586, x1 = -1.787828308600513, xi = -1.787828308600513, fx0 = -0.19877493193067514, fx1 = -0.0866496636149166, error = 0.3434289085826543\n",
      "[SymPy] Iteration 3: x0 = -1.787828308600513, x1 = -1.5985927340315307, xi = -1.5985927340315307, fx0 = -0.0866496636149166, fx1 = 0.10634181422475675, error = 0.1892355745689822\n",
      "[SymPy] Iteration 4: x0 = -1.5985927340315307, x1 = -1.6158564255114651, xi = -1.6158564255114651, fx0 = 0.10634181422475675, fx1 = -0.010675304818533071, error = 0.01726369147993445\n",
      "[SymPy] Iteration 5: x0 = -1.6158564255114651, x1 = -1.6175668942867243, xi = -1.6175668942867243, fx0 = -0.010675304818533071, fx1 = -0.0009623496013994592, error = 0.0017104687752591552\n",
      "[SymPy] Iteration 6: x0 = -1.6175668942867243, x1 = -1.6175452620285533, xi = -1.6175452620285533, fx0 = -0.0009623496013994592, fx1 = 1.2326708250021134e-05, error = 2.1632258170978247e-05\n",
      "[SymPy] The root was found to be at -1.6175452620285533\n",
      "[SymPy] The error was found to be 2.1632258170978247e-05\n",
      "[SymPy] Number of iterations 6\n"
     ]
    }
   ],
   "source": [
    "secant_sympy(\"1 / (1 + exp(-x**2 - sin(x) - x)) - 1/2\", -2,-1)"
   ]
  },
  {
   "cell_type": "code",
   "execution_count": null,
   "id": "4e979d95",
   "metadata": {},
   "outputs": [],
   "source": []
  }
 ],
 "metadata": {
  "kernelspec": {
   "display_name": "Python 3 (ipykernel)",
   "language": "python",
   "name": "python3"
  },
  "language_info": {
   "codemirror_mode": {
    "name": "ipython",
    "version": 3
   },
   "file_extension": ".py",
   "mimetype": "text/x-python",
   "name": "python",
   "nbconvert_exporter": "python",
   "pygments_lexer": "ipython3",
   "version": "3.9.13"
  }
 },
 "nbformat": 4,
 "nbformat_minor": 5
}
