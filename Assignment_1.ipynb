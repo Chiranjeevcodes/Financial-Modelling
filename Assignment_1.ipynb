{
 "cells": [
  {
   "cell_type": "code",
   "execution_count": 137,
   "id": "16c10da1",
   "metadata": {},
   "outputs": [],
   "source": [
    "import pandas as pd\n",
    "import numpy as np\n",
    "import statistics as sts"
   ]
  },
  {
   "cell_type": "code",
   "execution_count": 108,
   "id": "35b2d3bc",
   "metadata": {},
   "outputs": [],
   "source": [
    "#covariance\n",
    "\n",
    "def cov(a,b):\n",
    "    \n",
    "    a_mean = np.mean(a)\n",
    "    b_mean = np.mean(b)\n",
    "    \n",
    "    sum = 0\n",
    "    \n",
    "    for i in range(0, len(a)):\n",
    "        sum += ((a[i] - a_mean) * (b[i] - b_mean))\n",
    "\n",
    "    return sum/(len(a)-1)"
   ]
  },
  {
   "cell_type": "code",
   "execution_count": 106,
   "id": "9b845ec3",
   "metadata": {},
   "outputs": [],
   "source": [
    "#variance\n",
    "\n",
    "def var(a):\n",
    "    \n",
    "    a_mean = np.mean(a)\n",
    "    \n",
    "    sum = 0\n",
    "    \n",
    "    for i in range(0, (len(a))):\n",
    "        sum += np.square((a[i]-a_mean))\n",
    "        \n",
    "    return sum/(len(a)-1)    \n",
    "    "
   ]
  },
  {
   "cell_type": "code",
   "execution_count": 3,
   "id": "357f934c",
   "metadata": {},
   "outputs": [],
   "source": [
    "nifty_data = pd.read_csv('NIFTY 50 DATA.csv')"
   ]
  },
  {
   "cell_type": "code",
   "execution_count": 37,
   "id": "eb740ce1",
   "metadata": {},
   "outputs": [
    {
     "data": {
      "text/html": [
       "<div>\n",
       "<style scoped>\n",
       "    .dataframe tbody tr th:only-of-type {\n",
       "        vertical-align: middle;\n",
       "    }\n",
       "\n",
       "    .dataframe tbody tr th {\n",
       "        vertical-align: top;\n",
       "    }\n",
       "\n",
       "    .dataframe thead th {\n",
       "        text-align: right;\n",
       "    }\n",
       "</style>\n",
       "<table border=\"1\" class=\"dataframe\">\n",
       "  <thead>\n",
       "    <tr style=\"text-align: right;\">\n",
       "      <th></th>\n",
       "      <th>Date</th>\n",
       "      <th>Open</th>\n",
       "      <th>High</th>\n",
       "      <th>Low</th>\n",
       "      <th>Close</th>\n",
       "      <th>Adj Close</th>\n",
       "      <th>Volume</th>\n",
       "    </tr>\n",
       "  </thead>\n",
       "  <tbody>\n",
       "    <tr>\n",
       "      <th>0</th>\n",
       "      <td>2023-04-03</td>\n",
       "      <td>17427.949219</td>\n",
       "      <td>17428.050781</td>\n",
       "      <td>17312.750000</td>\n",
       "      <td>17398.050781</td>\n",
       "      <td>17398.050781</td>\n",
       "      <td>230200</td>\n",
       "    </tr>\n",
       "    <tr>\n",
       "      <th>1</th>\n",
       "      <td>2023-04-05</td>\n",
       "      <td>17422.300781</td>\n",
       "      <td>17570.550781</td>\n",
       "      <td>17402.699219</td>\n",
       "      <td>17557.050781</td>\n",
       "      <td>17557.050781</td>\n",
       "      <td>248300</td>\n",
       "    </tr>\n",
       "    <tr>\n",
       "      <th>2</th>\n",
       "      <td>2023-04-06</td>\n",
       "      <td>17533.849609</td>\n",
       "      <td>17638.699219</td>\n",
       "      <td>17502.849609</td>\n",
       "      <td>17599.150391</td>\n",
       "      <td>17599.150391</td>\n",
       "      <td>242700</td>\n",
       "    </tr>\n",
       "    <tr>\n",
       "      <th>3</th>\n",
       "      <td>2023-04-10</td>\n",
       "      <td>17634.900391</td>\n",
       "      <td>17694.099609</td>\n",
       "      <td>17597.949219</td>\n",
       "      <td>17624.050781</td>\n",
       "      <td>17624.050781</td>\n",
       "      <td>254800</td>\n",
       "    </tr>\n",
       "    <tr>\n",
       "      <th>4</th>\n",
       "      <td>2023-04-11</td>\n",
       "      <td>17704.800781</td>\n",
       "      <td>17748.750000</td>\n",
       "      <td>17655.150391</td>\n",
       "      <td>17722.300781</td>\n",
       "      <td>17722.300781</td>\n",
       "      <td>304300</td>\n",
       "    </tr>\n",
       "    <tr>\n",
       "      <th>...</th>\n",
       "      <td>...</td>\n",
       "      <td>...</td>\n",
       "      <td>...</td>\n",
       "      <td>...</td>\n",
       "      <td>...</td>\n",
       "      <td>...</td>\n",
       "      <td>...</td>\n",
       "    </tr>\n",
       "    <tr>\n",
       "      <th>238</th>\n",
       "      <td>2024-03-21</td>\n",
       "      <td>21989.900391</td>\n",
       "      <td>22080.949219</td>\n",
       "      <td>21941.300781</td>\n",
       "      <td>22011.949219</td>\n",
       "      <td>22011.949219</td>\n",
       "      <td>353200</td>\n",
       "    </tr>\n",
       "    <tr>\n",
       "      <th>239</th>\n",
       "      <td>2024-03-22</td>\n",
       "      <td>21932.199219</td>\n",
       "      <td>22180.699219</td>\n",
       "      <td>21883.300781</td>\n",
       "      <td>22096.750000</td>\n",
       "      <td>22096.750000</td>\n",
       "      <td>388700</td>\n",
       "    </tr>\n",
       "    <tr>\n",
       "      <th>240</th>\n",
       "      <td>2024-03-26</td>\n",
       "      <td>21947.900391</td>\n",
       "      <td>22073.199219</td>\n",
       "      <td>21947.550781</td>\n",
       "      <td>22004.699219</td>\n",
       "      <td>22004.699219</td>\n",
       "      <td>328400</td>\n",
       "    </tr>\n",
       "    <tr>\n",
       "      <th>241</th>\n",
       "      <td>2024-03-27</td>\n",
       "      <td>22053.949219</td>\n",
       "      <td>22193.599609</td>\n",
       "      <td>22052.849609</td>\n",
       "      <td>22123.650391</td>\n",
       "      <td>22123.650391</td>\n",
       "      <td>409100</td>\n",
       "    </tr>\n",
       "    <tr>\n",
       "      <th>242</th>\n",
       "      <td>2024-03-28</td>\n",
       "      <td>22163.599609</td>\n",
       "      <td>22516.000000</td>\n",
       "      <td>22163.599609</td>\n",
       "      <td>22326.900391</td>\n",
       "      <td>22326.900391</td>\n",
       "      <td>410500</td>\n",
       "    </tr>\n",
       "  </tbody>\n",
       "</table>\n",
       "<p>243 rows × 7 columns</p>\n",
       "</div>"
      ],
      "text/plain": [
       "           Date          Open          High           Low         Close  \\\n",
       "0    2023-04-03  17427.949219  17428.050781  17312.750000  17398.050781   \n",
       "1    2023-04-05  17422.300781  17570.550781  17402.699219  17557.050781   \n",
       "2    2023-04-06  17533.849609  17638.699219  17502.849609  17599.150391   \n",
       "3    2023-04-10  17634.900391  17694.099609  17597.949219  17624.050781   \n",
       "4    2023-04-11  17704.800781  17748.750000  17655.150391  17722.300781   \n",
       "..          ...           ...           ...           ...           ...   \n",
       "238  2024-03-21  21989.900391  22080.949219  21941.300781  22011.949219   \n",
       "239  2024-03-22  21932.199219  22180.699219  21883.300781  22096.750000   \n",
       "240  2024-03-26  21947.900391  22073.199219  21947.550781  22004.699219   \n",
       "241  2024-03-27  22053.949219  22193.599609  22052.849609  22123.650391   \n",
       "242  2024-03-28  22163.599609  22516.000000  22163.599609  22326.900391   \n",
       "\n",
       "        Adj Close  Volume  \n",
       "0    17398.050781  230200  \n",
       "1    17557.050781  248300  \n",
       "2    17599.150391  242700  \n",
       "3    17624.050781  254800  \n",
       "4    17722.300781  304300  \n",
       "..            ...     ...  \n",
       "238  22011.949219  353200  \n",
       "239  22096.750000  388700  \n",
       "240  22004.699219  328400  \n",
       "241  22123.650391  409100  \n",
       "242  22326.900391  410500  \n",
       "\n",
       "[243 rows x 7 columns]"
      ]
     },
     "execution_count": 37,
     "metadata": {},
     "output_type": "execute_result"
    }
   ],
   "source": [
    "nifty_data"
   ]
  },
  {
   "cell_type": "code",
   "execution_count": 131,
   "id": "5b18d735",
   "metadata": {},
   "outputs": [
    {
     "data": {
      "text/html": [
       "<div>\n",
       "<style scoped>\n",
       "    .dataframe tbody tr th:only-of-type {\n",
       "        vertical-align: middle;\n",
       "    }\n",
       "\n",
       "    .dataframe tbody tr th {\n",
       "        vertical-align: top;\n",
       "    }\n",
       "\n",
       "    .dataframe thead th {\n",
       "        text-align: right;\n",
       "    }\n",
       "</style>\n",
       "<table border=\"1\" class=\"dataframe\">\n",
       "  <thead>\n",
       "    <tr style=\"text-align: right;\">\n",
       "      <th></th>\n",
       "      <th>Date</th>\n",
       "      <th>Open</th>\n",
       "      <th>High</th>\n",
       "      <th>Low</th>\n",
       "      <th>Close</th>\n",
       "      <th>Adj Close</th>\n",
       "      <th>Volume</th>\n",
       "    </tr>\n",
       "  </thead>\n",
       "  <tbody>\n",
       "    <tr>\n",
       "      <th>0</th>\n",
       "      <td>2023-04-03</td>\n",
       "      <td>423.000000</td>\n",
       "      <td>424.950012</td>\n",
       "      <td>419.500000</td>\n",
       "      <td>424.250000</td>\n",
       "      <td>421.630737</td>\n",
       "      <td>6948329</td>\n",
       "    </tr>\n",
       "    <tr>\n",
       "      <th>1</th>\n",
       "      <td>2023-04-05</td>\n",
       "      <td>424.250000</td>\n",
       "      <td>428.750000</td>\n",
       "      <td>423.149994</td>\n",
       "      <td>426.549988</td>\n",
       "      <td>423.916504</td>\n",
       "      <td>8821326</td>\n",
       "    </tr>\n",
       "    <tr>\n",
       "      <th>2</th>\n",
       "      <td>2023-04-06</td>\n",
       "      <td>426.500000</td>\n",
       "      <td>439.299988</td>\n",
       "      <td>423.750000</td>\n",
       "      <td>437.649994</td>\n",
       "      <td>434.947998</td>\n",
       "      <td>10907492</td>\n",
       "    </tr>\n",
       "    <tr>\n",
       "      <th>3</th>\n",
       "      <td>2023-04-10</td>\n",
       "      <td>452.049988</td>\n",
       "      <td>473.299988</td>\n",
       "      <td>452.000000</td>\n",
       "      <td>461.299988</td>\n",
       "      <td>458.451965</td>\n",
       "      <td>50462653</td>\n",
       "    </tr>\n",
       "    <tr>\n",
       "      <th>4</th>\n",
       "      <td>2023-04-11</td>\n",
       "      <td>463.750000</td>\n",
       "      <td>463.750000</td>\n",
       "      <td>455.799988</td>\n",
       "      <td>458.700012</td>\n",
       "      <td>455.868042</td>\n",
       "      <td>14495222</td>\n",
       "    </tr>\n",
       "    <tr>\n",
       "      <th>...</th>\n",
       "      <td>...</td>\n",
       "      <td>...</td>\n",
       "      <td>...</td>\n",
       "      <td>...</td>\n",
       "      <td>...</td>\n",
       "      <td>...</td>\n",
       "      <td>...</td>\n",
       "    </tr>\n",
       "    <tr>\n",
       "      <th>238</th>\n",
       "      <td>2024-03-21</td>\n",
       "      <td>951.000000</td>\n",
       "      <td>969.250000</td>\n",
       "      <td>946.000000</td>\n",
       "      <td>964.900024</td>\n",
       "      <td>961.931580</td>\n",
       "      <td>11074207</td>\n",
       "    </tr>\n",
       "    <tr>\n",
       "      <th>239</th>\n",
       "      <td>2024-03-22</td>\n",
       "      <td>964.900024</td>\n",
       "      <td>986.200012</td>\n",
       "      <td>950.349976</td>\n",
       "      <td>979.799988</td>\n",
       "      <td>976.785706</td>\n",
       "      <td>13638296</td>\n",
       "    </tr>\n",
       "    <tr>\n",
       "      <th>240</th>\n",
       "      <td>2024-03-26</td>\n",
       "      <td>977.000000</td>\n",
       "      <td>995.000000</td>\n",
       "      <td>976.000000</td>\n",
       "      <td>986.200012</td>\n",
       "      <td>983.166016</td>\n",
       "      <td>9461531</td>\n",
       "    </tr>\n",
       "    <tr>\n",
       "      <th>241</th>\n",
       "      <td>2024-03-27</td>\n",
       "      <td>991.599976</td>\n",
       "      <td>995.000000</td>\n",
       "      <td>976.700012</td>\n",
       "      <td>978.650024</td>\n",
       "      <td>975.639282</td>\n",
       "      <td>6640537</td>\n",
       "    </tr>\n",
       "    <tr>\n",
       "      <th>242</th>\n",
       "      <td>2024-03-28</td>\n",
       "      <td>982.500000</td>\n",
       "      <td>999.900024</td>\n",
       "      <td>979.000000</td>\n",
       "      <td>992.799988</td>\n",
       "      <td>989.745728</td>\n",
       "      <td>9862996</td>\n",
       "    </tr>\n",
       "  </tbody>\n",
       "</table>\n",
       "<p>243 rows × 7 columns</p>\n",
       "</div>"
      ],
      "text/plain": [
       "           Date        Open        High         Low       Close   Adj Close  \\\n",
       "0    2023-04-03  423.000000  424.950012  419.500000  424.250000  421.630737   \n",
       "1    2023-04-05  424.250000  428.750000  423.149994  426.549988  423.916504   \n",
       "2    2023-04-06  426.500000  439.299988  423.750000  437.649994  434.947998   \n",
       "3    2023-04-10  452.049988  473.299988  452.000000  461.299988  458.451965   \n",
       "4    2023-04-11  463.750000  463.750000  455.799988  458.700012  455.868042   \n",
       "..          ...         ...         ...         ...         ...         ...   \n",
       "238  2024-03-21  951.000000  969.250000  946.000000  964.900024  961.931580   \n",
       "239  2024-03-22  964.900024  986.200012  950.349976  979.799988  976.785706   \n",
       "240  2024-03-26  977.000000  995.000000  976.000000  986.200012  983.166016   \n",
       "241  2024-03-27  991.599976  995.000000  976.700012  978.650024  975.639282   \n",
       "242  2024-03-28  982.500000  999.900024  979.000000  992.799988  989.745728   \n",
       "\n",
       "       Volume  \n",
       "0     6948329  \n",
       "1     8821326  \n",
       "2    10907492  \n",
       "3    50462653  \n",
       "4    14495222  \n",
       "..        ...  \n",
       "238  11074207  \n",
       "239  13638296  \n",
       "240   9461531  \n",
       "241   6640537  \n",
       "242   9862996  \n",
       "\n",
       "[243 rows x 7 columns]"
      ]
     },
     "execution_count": 131,
     "metadata": {},
     "output_type": "execute_result"
    }
   ],
   "source": [
    "tata_data"
   ]
  },
  {
   "cell_type": "code",
   "execution_count": 9,
   "id": "a59a110f",
   "metadata": {},
   "outputs": [],
   "source": [
    "nifty_max = nifty_data.High[0]"
   ]
  },
  {
   "cell_type": "code",
   "execution_count": 12,
   "id": "fb056a76",
   "metadata": {},
   "outputs": [],
   "source": [
    "nifty_min = nifty_data.Low[0]"
   ]
  },
  {
   "cell_type": "code",
   "execution_count": 13,
   "id": "3bd7d0d8",
   "metadata": {},
   "outputs": [],
   "source": [
    "for i in nifty_data.Low:\n",
    "    if i<nifty_min:\n",
    "        nifty_min = i\n",
    "        "
   ]
  },
  {
   "cell_type": "code",
   "execution_count": 24,
   "id": "72c96654",
   "metadata": {},
   "outputs": [],
   "source": [
    "for ii in nifty_data.High:\n",
    "    if ii>nifty_max:\n",
    "        nifty_max = ii\n",
    "        "
   ]
  },
  {
   "cell_type": "code",
   "execution_count": 40,
   "id": "4ea86933",
   "metadata": {},
   "outputs": [],
   "source": [
    "max_drawdown_nifty = nifty_max - nifty_min"
   ]
  },
  {
   "cell_type": "markdown",
   "id": "ce5fc442",
   "metadata": {},
   "source": [
    "## Max drawdown nifty"
   ]
  },
  {
   "cell_type": "code",
   "execution_count": 41,
   "id": "120d6972",
   "metadata": {},
   "outputs": [
    {
     "data": {
      "text/plain": [
       "5213.849609000001"
      ]
     },
     "execution_count": 41,
     "metadata": {},
     "output_type": "execute_result"
    }
   ],
   "source": [
    "max_drawdown_nifty"
   ]
  },
  {
   "cell_type": "code",
   "execution_count": 123,
   "id": "b561c9fe",
   "metadata": {},
   "outputs": [],
   "source": [
    "tata_data = pd.read_csv('TATAMOTORS historical data.csv')"
   ]
  },
  {
   "cell_type": "code",
   "execution_count": 43,
   "id": "2bc8eff6",
   "metadata": {},
   "outputs": [],
   "source": [
    "tata_max = tata_data.High[0]\n",
    "tata_min = tata_data.Low[0]\n",
    "\n",
    "for i in tata_data.Low:\n",
    "    if i<tata_min:\n",
    "        tata_min = i\n",
    "        \n",
    "        \n",
    "for ii in tata_data.High:\n",
    "    if ii>tata_max:\n",
    "        tata_max = ii\n",
    "                "
   ]
  },
  {
   "cell_type": "code",
   "execution_count": 182,
   "id": "38e30cea",
   "metadata": {},
   "outputs": [],
   "source": [
    "max_drawdown_tata = (tata_max - tata_min)/tata_max"
   ]
  },
  {
   "cell_type": "code",
   "execution_count": 160,
   "id": "f13ba792",
   "metadata": {},
   "outputs": [],
   "source": [
    "nifty_expected = (nifty_data.Close[len(nifty_data) - 1] - nifty_data.Open[0])/ nifty_data.Open[0]"
   ]
  },
  {
   "cell_type": "code",
   "execution_count": 57,
   "id": "7cf61dd8",
   "metadata": {},
   "outputs": [
    {
     "data": {
      "text/plain": [
       "28.109739765933853"
      ]
     },
     "execution_count": 57,
     "metadata": {},
     "output_type": "execute_result"
    }
   ],
   "source": [
    "nifty_expected"
   ]
  },
  {
   "cell_type": "markdown",
   "id": "d589b014",
   "metadata": {},
   "source": [
    "## Max drawdown tata"
   ]
  },
  {
   "cell_type": "code",
   "execution_count": 183,
   "id": "ec041f28",
   "metadata": {},
   "outputs": [
    {
     "data": {
      "text/plain": [
       "0.6063250662085226"
      ]
     },
     "execution_count": 183,
     "metadata": {},
     "output_type": "execute_result"
    }
   ],
   "source": [
    "max_drawdown_tata"
   ]
  },
  {
   "cell_type": "code",
   "execution_count": 158,
   "id": "61ac5bc4",
   "metadata": {},
   "outputs": [],
   "source": [
    "tata_expected = (tata_data.Close[len(tata_data) - 1] - tata_data.Open[0])/ tata_data.Open[0]"
   ]
  },
  {
   "cell_type": "code",
   "execution_count": 159,
   "id": "2e089afc",
   "metadata": {},
   "outputs": [
    {
     "data": {
      "text/plain": [
       "1.3470448888888888"
      ]
     },
     "execution_count": 159,
     "metadata": {},
     "output_type": "execute_result"
    }
   ],
   "source": [
    "tata_expected"
   ]
  },
  {
   "cell_type": "code",
   "execution_count": 163,
   "id": "bdfb04bc",
   "metadata": {},
   "outputs": [],
   "source": [
    "Rf = 0.07015"
   ]
  },
  {
   "cell_type": "code",
   "execution_count": 164,
   "id": "5b648436",
   "metadata": {},
   "outputs": [
    {
     "data": {
      "text/plain": [
       "1.276894888888889"
      ]
     },
     "execution_count": 164,
     "metadata": {},
     "output_type": "execute_result"
    }
   ],
   "source": [
    "tata_expected - Rf"
   ]
  },
  {
   "cell_type": "code",
   "execution_count": 165,
   "id": "ac808036",
   "metadata": {},
   "outputs": [],
   "source": [
    "sharpe_tata = (tata_expected - Rf)/sts.stdev(tata_data.Close)"
   ]
  },
  {
   "cell_type": "code",
   "execution_count": 166,
   "id": "d69bdc2c",
   "metadata": {},
   "outputs": [
    {
     "data": {
      "text/plain": [
       "0.008539360214508481"
      ]
     },
     "execution_count": 166,
     "metadata": {},
     "output_type": "execute_result"
    }
   ],
   "source": [
    "sharpe_tata"
   ]
  },
  {
   "cell_type": "code",
   "execution_count": 140,
   "id": "680c86ca",
   "metadata": {},
   "outputs": [],
   "source": [
    "sharpe_nifty = (nifty_expected - Rf)/sts.stdev(nifty_data.Close)"
   ]
  },
  {
   "cell_type": "code",
   "execution_count": 141,
   "id": "5655d1b6",
   "metadata": {},
   "outputs": [
    {
     "data": {
      "text/plain": [
       "0.015203851490144289"
      ]
     },
     "execution_count": 141,
     "metadata": {},
     "output_type": "execute_result"
    }
   ],
   "source": [
    "sharpe_nifty"
   ]
  },
  {
   "cell_type": "markdown",
   "id": "a2925b22",
   "metadata": {},
   "source": [
    "## Beta"
   ]
  },
  {
   "cell_type": "code",
   "execution_count": 172,
   "id": "1e715717",
   "metadata": {},
   "outputs": [],
   "source": [
    "beta = cov(nifty_data.Close, tata_data.Close)/np.square(sts.stdev(nifty_data.Close))"
   ]
  },
  {
   "cell_type": "code",
   "execution_count": 173,
   "id": "8f51ffb5",
   "metadata": {},
   "outputs": [
    {
     "data": {
      "text/plain": [
       "0.10314598306980763"
      ]
     },
     "execution_count": 173,
     "metadata": {},
     "output_type": "execute_result"
    }
   ],
   "source": [
    "beta"
   ]
  },
  {
   "cell_type": "markdown",
   "id": "ae9cc745",
   "metadata": {},
   "source": [
    "## Alpha"
   ]
  },
  {
   "cell_type": "code",
   "execution_count": 169,
   "id": "4d32d4ca",
   "metadata": {},
   "outputs": [],
   "source": [
    "alpha = tata_expected - Rf - beta*(nifty_expected - Rf)"
   ]
  },
  {
   "cell_type": "code",
   "execution_count": 170,
   "id": "d61db8a4",
   "metadata": {},
   "outputs": [
    {
     "data": {
      "text/plain": [
       "1.2551365121812987"
      ]
     },
     "execution_count": 170,
     "metadata": {},
     "output_type": "execute_result"
    }
   ],
   "source": [
    "alpha"
   ]
  },
  {
   "cell_type": "code",
   "execution_count": 189,
   "id": "bab0f12e",
   "metadata": {},
   "outputs": [
    {
     "data": {
      "text/plain": [
       "0      17398.050781\n",
       "1      17557.050781\n",
       "2      17599.150391\n",
       "3      17624.050781\n",
       "4      17722.300781\n",
       "           ...     \n",
       "238    22011.949219\n",
       "239    22096.750000\n",
       "240    22004.699219\n",
       "241    22123.650391\n",
       "242    22326.900391\n",
       "Name: Adj Close, Length: 243, dtype: float64"
      ]
     },
     "execution_count": 189,
     "metadata": {},
     "output_type": "execute_result"
    }
   ],
   "source": [
    "nifty_data['Adj Close']"
   ]
  },
  {
   "cell_type": "code",
   "execution_count": null,
   "id": "5f492632",
   "metadata": {},
   "outputs": [],
   "source": []
  }
 ],
 "metadata": {
  "kernelspec": {
   "display_name": "Python 3 (ipykernel)",
   "language": "python",
   "name": "python3"
  },
  "language_info": {
   "codemirror_mode": {
    "name": "ipython",
    "version": 3
   },
   "file_extension": ".py",
   "mimetype": "text/x-python",
   "name": "python",
   "nbconvert_exporter": "python",
   "pygments_lexer": "ipython3",
   "version": "3.9.13"
  }
 },
 "nbformat": 4,
 "nbformat_minor": 5
}
